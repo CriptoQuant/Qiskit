{
  "nbformat": 4,
  "nbformat_minor": 0,
  "metadata": {
    "colab": {
      "provenance": []
    },
    "kernelspec": {
      "name": "python3",
      "display_name": "Python 3"
    },
    "language_info": {
      "name": "python"
    }
  },
  "cells": [
    {
      "cell_type": "code",
      "execution_count": null,
      "metadata": {
        "id": "hcv-H3BfyPRH"
      },
      "outputs": [],
      "source": [
        "!pip install qiskit ipywidgets\n",
        "!pip install pylatexenc\n",
        "!pip install matplotlib\n",
        "!pip install qiskit-aer"
      ]
    },
    {
      "cell_type": "code",
      "source": [
        "from qiskit import QuantumCircuit, transpile\n",
        "from qiskit.visualization import *\n",
        "from qiskit import *\n",
        "from qiskit_aer import Aer\n",
        "import numpy as np\n",
        "from qiskit.visualization import plot_histogram\n",
        "from qiskit.circuit.library import UnitaryGate"
      ],
      "metadata": {
        "id": "OrRe-PJJyR5b"
      },
      "execution_count": null,
      "outputs": []
    }
  ]
}